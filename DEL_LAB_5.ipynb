{
  "cells": [
    {
      "cell_type": "code",
      "source": [
        "import tensorflow as tf\n",
        "import pandas as pd\n",
        "from tensorflow.keras import layers\n",
        "from sklearn.datasets import load_iris\n",
        "from sklearn.preprocessing import LabelEncoder\n",
        "from sklearn.model_selection import train_test_split\n",
        "# load data\n",
        "data = load_iris()\n",
        "df = pd.DataFrame(data.data)\n",
        "\n",
        "size = int(0.75*len(df))\n",
        "x_train = df.iloc[: size, :-1]\n",
        "y_train = df.iloc[: size, -1]\n",
        "x_test = df.iloc[size: , :-1]\n",
        "y_test = df.iloc[size: , -1]\n",
        "# Convert data to TensorFlow tensors\n",
        "x_train = tf.convert_to_tensor(x_train)\n",
        "y_train = tf.convert_to_tensor(y_train)\n",
        "x_test = tf.convert_to_tensor(x_test)\n",
        "y_test = tf.convert_to_tensor(y_test)\n",
        "dropout_rate = 0.2\n",
        "model = tf.keras.Sequential([\n",
        "        layers.Dense(4, activation='relu'),\n",
        "        layers.Dropout(dropout_rate),\n",
        "        layers.Dense(10, activation='relu'),\n",
        "        layers.Dense(10, activation='softmax')\n",
        "    ])\n",
        "\n",
        "model.summary()"
      ],
      "metadata": {
        "colab": {
          "base_uri": "https://localhost:8080/",
          "height": 268
        },
        "id": "NgLOwfJ7KWYY",
        "outputId": "9b39a0cc-1f21-48a7-e831-21a5f92c7a76"
      },
      "execution_count": 2,
      "outputs": [
        {
          "output_type": "display_data",
          "data": {
            "text/plain": [
              "\u001b[1mModel: \"sequential\"\u001b[0m\n"
            ],
            "text/html": [
              "<pre style=\"white-space:pre;overflow-x:auto;line-height:normal;font-family:Menlo,'DejaVu Sans Mono',consolas,'Courier New',monospace\"><span style=\"font-weight: bold\">Model: \"sequential\"</span>\n",
              "</pre>\n"
            ]
          },
          "metadata": {}
        },
        {
          "output_type": "display_data",
          "data": {
            "text/plain": [
              "┏━━━━━━━━━━━━━━━━━━━━━━━━━━━━━━━━━━━━━━┳━━━━━━━━━━━━━━━━━━━━━━━━━━━━━┳━━━━━━━━━━━━━━━━━┓\n",
              "┃\u001b[1m \u001b[0m\u001b[1mLayer (type)                        \u001b[0m\u001b[1m \u001b[0m┃\u001b[1m \u001b[0m\u001b[1mOutput Shape               \u001b[0m\u001b[1m \u001b[0m┃\u001b[1m \u001b[0m\u001b[1m        Param #\u001b[0m\u001b[1m \u001b[0m┃\n",
              "┡━━━━━━━━━━━━━━━━━━━━━━━━━━━━━━━━━━━━━━╇━━━━━━━━━━━━━━━━━━━━━━━━━━━━━╇━━━━━━━━━━━━━━━━━┩\n",
              "│ dense (\u001b[38;5;33mDense\u001b[0m)                        │ ?                           │     \u001b[38;5;34m0\u001b[0m (unbuilt) │\n",
              "├──────────────────────────────────────┼─────────────────────────────┼─────────────────┤\n",
              "│ dropout (\u001b[38;5;33mDropout\u001b[0m)                    │ ?                           │     \u001b[38;5;34m0\u001b[0m (unbuilt) │\n",
              "├──────────────────────────────────────┼─────────────────────────────┼─────────────────┤\n",
              "│ dense_1 (\u001b[38;5;33mDense\u001b[0m)                      │ ?                           │     \u001b[38;5;34m0\u001b[0m (unbuilt) │\n",
              "├──────────────────────────────────────┼─────────────────────────────┼─────────────────┤\n",
              "│ dense_2 (\u001b[38;5;33mDense\u001b[0m)                      │ ?                           │     \u001b[38;5;34m0\u001b[0m (unbuilt) │\n",
              "└──────────────────────────────────────┴─────────────────────────────┴─────────────────┘\n"
            ],
            "text/html": [
              "<pre style=\"white-space:pre;overflow-x:auto;line-height:normal;font-family:Menlo,'DejaVu Sans Mono',consolas,'Courier New',monospace\">┏━━━━━━━━━━━━━━━━━━━━━━━━━━━━━━━━━━━━━━┳━━━━━━━━━━━━━━━━━━━━━━━━━━━━━┳━━━━━━━━━━━━━━━━━┓\n",
              "┃<span style=\"font-weight: bold\"> Layer (type)                         </span>┃<span style=\"font-weight: bold\"> Output Shape                </span>┃<span style=\"font-weight: bold\">         Param # </span>┃\n",
              "┡━━━━━━━━━━━━━━━━━━━━━━━━━━━━━━━━━━━━━━╇━━━━━━━━━━━━━━━━━━━━━━━━━━━━━╇━━━━━━━━━━━━━━━━━┩\n",
              "│ dense (<span style=\"color: #0087ff; text-decoration-color: #0087ff\">Dense</span>)                        │ ?                           │     <span style=\"color: #00af00; text-decoration-color: #00af00\">0</span> (unbuilt) │\n",
              "├──────────────────────────────────────┼─────────────────────────────┼─────────────────┤\n",
              "│ dropout (<span style=\"color: #0087ff; text-decoration-color: #0087ff\">Dropout</span>)                    │ ?                           │     <span style=\"color: #00af00; text-decoration-color: #00af00\">0</span> (unbuilt) │\n",
              "├──────────────────────────────────────┼─────────────────────────────┼─────────────────┤\n",
              "│ dense_1 (<span style=\"color: #0087ff; text-decoration-color: #0087ff\">Dense</span>)                      │ ?                           │     <span style=\"color: #00af00; text-decoration-color: #00af00\">0</span> (unbuilt) │\n",
              "├──────────────────────────────────────┼─────────────────────────────┼─────────────────┤\n",
              "│ dense_2 (<span style=\"color: #0087ff; text-decoration-color: #0087ff\">Dense</span>)                      │ ?                           │     <span style=\"color: #00af00; text-decoration-color: #00af00\">0</span> (unbuilt) │\n",
              "└──────────────────────────────────────┴─────────────────────────────┴─────────────────┘\n",
              "</pre>\n"
            ]
          },
          "metadata": {}
        },
        {
          "output_type": "display_data",
          "data": {
            "text/plain": [
              "\u001b[1m Total params: \u001b[0m\u001b[38;5;34m0\u001b[0m (0.00 B)\n"
            ],
            "text/html": [
              "<pre style=\"white-space:pre;overflow-x:auto;line-height:normal;font-family:Menlo,'DejaVu Sans Mono',consolas,'Courier New',monospace\"><span style=\"font-weight: bold\"> Total params: </span><span style=\"color: #00af00; text-decoration-color: #00af00\">0</span> (0.00 B)\n",
              "</pre>\n"
            ]
          },
          "metadata": {}
        },
        {
          "output_type": "display_data",
          "data": {
            "text/plain": [
              "\u001b[1m Trainable params: \u001b[0m\u001b[38;5;34m0\u001b[0m (0.00 B)\n"
            ],
            "text/html": [
              "<pre style=\"white-space:pre;overflow-x:auto;line-height:normal;font-family:Menlo,'DejaVu Sans Mono',consolas,'Courier New',monospace\"><span style=\"font-weight: bold\"> Trainable params: </span><span style=\"color: #00af00; text-decoration-color: #00af00\">0</span> (0.00 B)\n",
              "</pre>\n"
            ]
          },
          "metadata": {}
        },
        {
          "output_type": "display_data",
          "data": {
            "text/plain": [
              "\u001b[1m Non-trainable params: \u001b[0m\u001b[38;5;34m0\u001b[0m (0.00 B)\n"
            ],
            "text/html": [
              "<pre style=\"white-space:pre;overflow-x:auto;line-height:normal;font-family:Menlo,'DejaVu Sans Mono',consolas,'Courier New',monospace\"><span style=\"font-weight: bold\"> Non-trainable params: </span><span style=\"color: #00af00; text-decoration-color: #00af00\">0</span> (0.00 B)\n",
              "</pre>\n"
            ]
          },
          "metadata": {}
        }
      ]
    },
    {
      "cell_type": "code",
      "source": [
        "model.compile(optimizer='SGD', loss='sparse_categorical_crossentropy', metrics=['accuracy'])\n",
        "d = model.fit(x_train, y_train, epochs=10, validation_data = (x_test, y_test))"
      ],
      "metadata": {
        "colab": {
          "base_uri": "https://localhost:8080/"
        },
        "id": "noFjFFmxKjF6",
        "outputId": "95790f1d-8153-4273-ace5-75409b76374c"
      },
      "execution_count": 3,
      "outputs": [
        {
          "output_type": "stream",
          "name": "stdout",
          "text": [
            "Epoch 1/10\n",
            "\u001b[1m4/4\u001b[0m \u001b[32m━━━━━━━━━━━━━━━━━━━━\u001b[0m\u001b[37m\u001b[0m \u001b[1m1s\u001b[0m 83ms/step - accuracy: 0.0186 - loss: 2.7374 - val_accuracy: 0.1316 - val_loss: 1.5509\n",
            "Epoch 2/10\n",
            "\u001b[1m4/4\u001b[0m \u001b[32m━━━━━━━━━━━━━━━━━━━━\u001b[0m\u001b[37m\u001b[0m \u001b[1m0s\u001b[0m 16ms/step - accuracy: 0.0088 - loss: 2.2025 - val_accuracy: 0.0000e+00 - val_loss: 1.6293\n",
            "Epoch 3/10\n",
            "\u001b[1m4/4\u001b[0m \u001b[32m━━━━━━━━━━━━━━━━━━━━\u001b[0m\u001b[37m\u001b[0m \u001b[1m0s\u001b[0m 15ms/step - accuracy: 0.0683 - loss: 1.9481 - val_accuracy: 0.0000e+00 - val_loss: 1.7375\n",
            "Epoch 4/10\n",
            "\u001b[1m4/4\u001b[0m \u001b[32m━━━━━━━━━━━━━━━━━━━━\u001b[0m\u001b[37m\u001b[0m \u001b[1m0s\u001b[0m 15ms/step - accuracy: 0.0746 - loss: 1.7221 - val_accuracy: 0.0000e+00 - val_loss: 1.8180\n",
            "Epoch 5/10\n",
            "\u001b[1m4/4\u001b[0m \u001b[32m━━━━━━━━━━━━━━━━━━━━\u001b[0m\u001b[37m\u001b[0m \u001b[1m0s\u001b[0m 21ms/step - accuracy: 0.0506 - loss: 1.6489 - val_accuracy: 0.0000e+00 - val_loss: 1.9395\n",
            "Epoch 6/10\n",
            "\u001b[1m4/4\u001b[0m \u001b[32m━━━━━━━━━━━━━━━━━━━━\u001b[0m\u001b[37m\u001b[0m \u001b[1m0s\u001b[0m 15ms/step - accuracy: 0.0646 - loss: 1.5220 - val_accuracy: 0.0000e+00 - val_loss: 2.0443\n",
            "Epoch 7/10\n",
            "\u001b[1m4/4\u001b[0m \u001b[32m━━━━━━━━━━━━━━━━━━━━\u001b[0m\u001b[37m\u001b[0m \u001b[1m0s\u001b[0m 24ms/step - accuracy: 0.0562 - loss: 1.4419 - val_accuracy: 0.0000e+00 - val_loss: 2.1487\n",
            "Epoch 8/10\n",
            "\u001b[1m4/4\u001b[0m \u001b[32m━━━━━━━━━━━━━━━━━━━━\u001b[0m\u001b[37m\u001b[0m \u001b[1m0s\u001b[0m 14ms/step - accuracy: 0.0375 - loss: 1.4686 - val_accuracy: 0.0000e+00 - val_loss: 2.2553\n",
            "Epoch 9/10\n",
            "\u001b[1m4/4\u001b[0m \u001b[32m━━━━━━━━━━━━━━━━━━━━\u001b[0m\u001b[37m\u001b[0m \u001b[1m0s\u001b[0m 20ms/step - accuracy: 0.0201 - loss: 1.5267 - val_accuracy: 0.0000e+00 - val_loss: 2.3300\n",
            "Epoch 10/10\n",
            "\u001b[1m4/4\u001b[0m \u001b[32m━━━━━━━━━━━━━━━━━━━━\u001b[0m\u001b[37m\u001b[0m \u001b[1m0s\u001b[0m 16ms/step - accuracy: 0.0423 - loss: 1.3771 - val_accuracy: 0.0000e+00 - val_loss: 2.4218\n"
          ]
        }
      ]
    },
    {
      "cell_type": "code",
      "source": [
        "model.get_weights()"
      ],
      "metadata": {
        "colab": {
          "base_uri": "https://localhost:8080/"
        },
        "id": "gK6mvR8hKnir",
        "outputId": "bbeba1ec-ca46-42d0-f030-1fa551b00e18"
      },
      "execution_count": 4,
      "outputs": [
        {
          "output_type": "execute_result",
          "data": {
            "text/plain": [
              "[array([[-0.8803406 ,  0.8049237 , -0.27700055,  0.83106446],\n",
              "        [-0.21824992, -0.00571417, -0.34858245, -0.56288135],\n",
              "        [-0.672449  ,  0.05355415, -0.05788869, -0.46413875]],\n",
              "       dtype=float32),\n",
              " array([ 0.        ,  0.00660371,  0.        , -0.01397761], dtype=float32),\n",
              " array([[ 0.28557342,  0.65247977,  0.25583476,  0.48784673, -0.08319288,\n",
              "         -0.13200837, -0.25661033, -0.6447072 ,  0.15715837, -0.27795902],\n",
              "        [ 0.06186978,  0.12296596,  0.19049782, -0.6033453 ,  0.5572215 ,\n",
              "         -0.08522183,  0.04691613, -0.2405901 ,  0.3759571 , -0.08100492],\n",
              "        [-0.3696529 ,  0.33791196, -0.3265597 , -0.35914406,  0.65072024,\n",
              "          0.6319685 ,  0.5762112 , -0.25865576, -0.07405728,  0.15179825],\n",
              "        [-0.4031457 , -0.5612229 , -0.10360069, -0.5257242 , -0.21261775,\n",
              "         -0.33950058,  0.6310769 , -0.24945477, -0.1407866 ,  0.4357784 ]],\n",
              "       dtype=float32),\n",
              " array([-0.00680668,  0.00898723, -0.04408321,  0.        ,  0.02616845,\n",
              "         0.        ,  0.05510628,  0.        ,  0.04890634, -0.06270206],\n",
              "       dtype=float32),\n",
              " array([[ 0.00574643, -0.41013294,  0.5206053 ,  0.33542457,  0.3433494 ,\n",
              "         -0.3462778 , -0.07187398, -0.46901727,  0.13961801,  0.16812542],\n",
              "        [ 0.03973356,  0.29697463, -0.33158052, -0.20660852,  0.41266802,\n",
              "          0.14710556, -0.3362493 , -0.19815092,  0.1481706 , -0.34477305],\n",
              "        [-0.23409933, -0.01130532,  0.46378082, -0.2754756 ,  0.155378  ,\n",
              "         -0.5644375 ,  0.3028878 ,  0.13077247, -0.0879044 ,  0.48043868],\n",
              "        [ 0.37331027, -0.45551938, -0.5310104 , -0.3903413 ,  0.42489964,\n",
              "          0.18225092,  0.20320195,  0.05031019, -0.14771518, -0.15643555],\n",
              "        [ 0.38283607,  0.23910096,  0.15976064, -0.1704122 , -0.18686448,\n",
              "          0.29564878,  0.26913354, -0.42106727, -0.20222554, -0.44621664],\n",
              "        [ 0.41954583, -0.29913855, -0.48506552,  0.30414003, -0.39232326,\n",
              "          0.3283791 ,  0.18439335,  0.2331332 , -0.03119719,  0.01658839],\n",
              "        [ 0.22078435,  0.5178924 , -0.4468225 , -0.09591426, -0.44189486,\n",
              "          0.44380486, -0.4032041 ,  0.09790257, -0.29828978, -0.10410619],\n",
              "        [ 0.24326926,  0.267533  , -0.44484034,  0.02158803,  0.40590572,\n",
              "         -0.29469934,  0.37115216,  0.29047942,  0.01209188, -0.50172085],\n",
              "        [ 0.09258147,  0.5815504 , -0.45333418, -0.15306664,  0.1973218 ,\n",
              "         -0.33849785, -0.04177335, -0.23543309, -0.44892356, -0.1881789 ],\n",
              "        [-0.25822547, -0.37646478,  0.47523358,  0.2643146 , -0.40273163,\n",
              "          0.43286243, -0.55277264, -0.1287388 , -0.20950003, -0.4616093 ]],\n",
              "       dtype=float32),\n",
              " array([ 0.13799258,  0.06025319, -0.02602571, -0.01979825, -0.02158771,\n",
              "        -0.05086311, -0.03898865, -0.01609868, -0.01080545, -0.01407819],\n",
              "       dtype=float32)]"
            ]
          },
          "metadata": {},
          "execution_count": 4
        }
      ]
    },
    {
      "cell_type": "code",
      "source": [
        "test_score, test_accuracy = model.evaluate(x_test, y_test)\n",
        "print(f\"Test Accuracy: {test_accuracy} %\")"
      ],
      "metadata": {
        "colab": {
          "base_uri": "https://localhost:8080/"
        },
        "id": "T0PoN74SKtB_",
        "outputId": "7db65a50-ab80-4f7d-f536-81a03582fdc8"
      },
      "execution_count": 5,
      "outputs": [
        {
          "output_type": "stream",
          "name": "stdout",
          "text": [
            "\u001b[1m2/2\u001b[0m \u001b[32m━━━━━━━━━━━━━━━━━━━━\u001b[0m\u001b[37m\u001b[0m \u001b[1m0s\u001b[0m 8ms/step - accuracy: 0.0000e+00 - loss: 2.4130 \n",
            "Test Accuracy: 0.0 %\n"
          ]
        }
      ]
    }
  ],
  "metadata": {
    "colab": {
      "provenance": []
    },
    "kernelspec": {
      "display_name": "Python 3",
      "name": "python3"
    },
    "language_info": {
      "name": "python"
    }
  },
  "nbformat": 4,
  "nbformat_minor": 0
}